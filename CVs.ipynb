{
 "cells": [
  {
   "cell_type": "code",
   "execution_count": 97,
   "metadata": {},
   "outputs": [],
   "source": [
    "include(\"src\\\\ImportanceSampling.jl\")\n",
    "using ImportanceSampling\n",
    "using Distributions"
   ]
  },
  {
   "cell_type": "code",
   "execution_count": 79,
   "metadata": {},
   "outputs": [
    {
     "data": {
      "text/plain": [
       "2-element Array{Tuple{Function,Array{Float64,1}},1}:\n",
       " (#47, [1.0])          \n",
       " (#48, [2.0, 2.0, 1.0])"
      ]
     },
     "execution_count": 79,
     "metadata": {},
     "output_type": "execute_result"
    }
   ],
   "source": [
    "g!s = [((r, x) -> r .= 2*x, [1.0])\n",
    "    ((r, x) -> begin\n",
    "            y = first(x)\n",
    "            r[1] = 5*y.^2\n",
    "            r[2] = cos.(3*y)\n",
    "            r[3] = sin.(3*y)\n",
    "            r\n",
    "        end, [2.0, 2, 1])]"
   ]
  },
  {
   "cell_type": "code",
   "execution_count": 153,
   "metadata": {},
   "outputs": [
    {
     "data": {
      "text/plain": [
       "2-element Array{Array{Float64,1},1}:\n",
       " [1.0]          \n",
       " [2.0, 2.0, 1.0]"
      ]
     },
     "execution_count": 153,
     "metadata": {},
     "output_type": "execute_result"
    }
   ],
   "source": [
    "θs = last.(g!s)"
   ]
  },
  {
   "cell_type": "code",
   "execution_count": 156,
   "metadata": {},
   "outputs": [
    {
     "data": {
      "text/plain": [
       "3-element Array{Int64,1}:\n",
       " 1\n",
       " 2\n",
       " 5"
      ]
     },
     "execution_count": 156,
     "metadata": {},
     "output_type": "execute_result"
    }
   ],
   "source": [
    "cumsum(vcat(1, length.(θs)))"
   ]
  },
  {
   "cell_type": "code",
   "execution_count": 114,
   "metadata": {},
   "outputs": [
    {
     "data": {
      "text/plain": [
       "2-element Array{Float64,1}:\n",
       " 0.0079367\n",
       " 0.0634936"
      ]
     },
     "execution_count": 114,
     "metadata": {},
     "output_type": "execute_result"
    }
   ],
   "source": [
    "t = zeros(2)\n",
    "x = zeros(3)\n",
    "gs[1](view(t, 1:1, 1), x)\n",
    "gs[2](view(t, 2:2, 1), x)\n",
    "t"
   ]
  },
  {
   "cell_type": "code",
   "execution_count": 119,
   "metadata": {},
   "outputs": [
    {
     "data": {
      "text/plain": [
       "0.06349363593424096"
      ]
     },
     "execution_count": 119,
     "metadata": {},
     "output_type": "execute_result"
    }
   ],
   "source": [
    "pdf(MvNormal(eye(3)), zeros(3))"
   ]
  },
  {
   "cell_type": "code",
   "execution_count": 117,
   "metadata": {},
   "outputs": [
    {
     "data": {
      "text/plain": [
       "ZeroMeanIsoNormal(\n",
       "dim: 3\n",
       "μ: [0.0, 0.0, 0.0]\n",
       "Σ: [4.0 0.0 0.0; 0.0 4.0 0.0; 0.0 0.0 4.0]\n",
       ")\n"
      ]
     },
     "execution_count": 117,
     "metadata": {},
     "output_type": "execute_result"
    }
   ],
   "source": [
    "qs[1]"
   ]
  }
 ],
 "metadata": {
  "kernelspec": {
   "display_name": "Julia 0.6.0",
   "language": "julia",
   "name": "julia-0.6"
  },
  "language_info": {
   "file_extension": ".jl",
   "mimetype": "application/julia",
   "name": "julia",
   "version": "0.6.0"
  }
 },
 "nbformat": 4,
 "nbformat_minor": 2
}
