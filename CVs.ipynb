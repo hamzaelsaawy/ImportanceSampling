{
 "cells": [
  {
   "cell_type": "code",
   "execution_count": 1,
   "metadata": {},
   "outputs": [],
   "source": [
    "include(\"src\\\\ImportanceSampling.jl\")\n",
    "using ImportanceSampling\n",
    "using Distributions"
   ]
  },
  {
   "cell_type": "code",
   "execution_count": 2,
   "metadata": {},
   "outputs": [
    {
     "data": {
      "text/plain": [
       "f! (generic function with 1 method)"
      ]
     },
     "execution_count": 2,
     "metadata": {},
     "output_type": "execute_result"
    }
   ],
   "source": [
    "g!s = [((r, x) -> r .= 2*x, [1.0])\n",
    "    ((r, x) -> begin\n",
    "        y = first(x)\n",
    "        r[1] = 5*y.^2\n",
    "        r[2] = 2*y.^3\n",
    "        r\n",
    "    end, [5/3, 1/2])]\n",
    "\n",
    "f!(r, x) = r .= x.^2 - 3*x"
   ]
  },
  {
   "cell_type": "code",
   "execution_count": 3,
   "metadata": {},
   "outputs": [
    {
     "data": {
      "text/plain": [
       "ImportanceSampling.CvImportanceSampler(Distributions.Uniform{Float64}(a=0.0, b=1.0), ImportanceSampling.MeanVariance{1}(0, [0.0], [0.0]), ImportanceSampling.Diagnostic(0, 0.0, 0.0, 0.0, 0.0), ImportanceSampling.ControlVariate{1,3}(0, [0.0; 0.0; 0.0], [0.0], [0.0, 0.0, 0.0], [0.0 0.0 0.0; 0.0 0.0 0.0; 0.0 0.0 0.0], [0.0; 0.0; 0.0]), #11, f!, Function[#1, #2], Array{Float64,1}[[1.0], [1.66667, 0.5]])"
      ]
     },
     "execution_count": 3,
     "metadata": {},
     "output_type": "execute_result"
    }
   ],
   "source": [
    "is = CvImportanceSampler(f!, 1, g!s, Uniform(), w=((_)->1.0), use_q=false)"
   ]
  },
  {
   "cell_type": "code",
   "execution_count": 4,
   "metadata": {},
   "outputs": [],
   "source": [
    "batchsize = 10000\n",
    "X = Matrix{Float64}(length(is.q), batchsize)\n",
    "F = Matrix{Float64}(length(is.μ), batchsize)\n",
    "G = Matrix{Float64}(size(is.β, 2), batchsize)\n",
    "W = Vector{Float64}(batchsize)\n",
    "Q = Vector{Float64}(batchsize)\n",
    ";"
   ]
  },
  {
   "cell_type": "code",
   "execution_count": 5,
   "metadata": {},
   "outputs": [],
   "source": [
    "rand!(is.q, X)\n",
    "ImportanceSampling.calcF!(F, is, X)\n",
    "ImportanceSampling.calcG!(G, is, X)\n",
    "ImportanceSampling.calcW!(W, is, X)\n",
    "ImportanceSampling.calcQ!(Q, is, X)\n",
    ";"
   ]
  },
  {
   "cell_type": "code",
   "execution_count": 6,
   "metadata": {},
   "outputs": [
    {
     "data": {
      "text/plain": [
       "ImportanceSampling.CvImportanceSampler(Distributions.Uniform{Float64}(a=0.0, b=1.0), ImportanceSampling.MeanVariance{1}(0, [0.0], [0.0]), ImportanceSampling.Diagnostic(0, 0.0, 0.0, 0.0, 0.0), ImportanceSampling.ControlVariate{1,3}(10000, [-1.5; 0.2; -2.31178e-13], [-11627.3], [9970.13, 16639.5, 5000.99], [3371.22 8415.2 3029.17; 8415.2 22408.0 8401.52; 3029.17 8401.52 3239.75], [-3373.78; -8141.2; -2863.46]), #11, f!, Function[#1, #2], Array{Float64,1}[[1.0], [1.66667, 0.5]])"
      ]
     },
     "execution_count": 6,
     "metadata": {},
     "output_type": "execute_result"
    }
   ],
   "source": [
    "updateβ!(is, X=X, F=F, G=G, W=W, Q=Q)"
   ]
  },
  {
   "cell_type": "code",
   "execution_count": 13,
   "metadata": {},
   "outputs": [
    {
     "name": "stderr",
     "output_type": "stream",
     "text": [
      "\u001b[1m\u001b[33mWARNING: \u001b[39m\u001b[22m\u001b[33mpdf!(r::AbstractArray, d::UnivariateDistribution, X::AbstractArray) is deprecated, use r .= pdf.(d, X) instead.\u001b[39m\n",
      "Stacktrace:\n",
      " [1] \u001b[1mdepwarn\u001b[22m\u001b[22m\u001b[1m(\u001b[22m\u001b[22m::String, ::Symbol\u001b[1m)\u001b[22m\u001b[22m at \u001b[1m.\\deprecated.jl:70\u001b[22m\u001b[22m\n",
      " [2] \u001b[1mpdf!\u001b[22m\u001b[22m\u001b[1m(\u001b[22m\u001b[22m::Array{Float64,1}, ::Distributions.Uniform{Float64}, ::Array{Float64,2}\u001b[1m)\u001b[22m\u001b[22m at \u001b[1m.\\deprecated.jl:57\u001b[22m\u001b[22m\n",
      " [3] \u001b[1m#_update!#41\u001b[22m\u001b[22m\u001b[1m(\u001b[22m\u001b[22m::Void, ::Void, ::Bool, ::Bool, ::Array{Any,1}, ::Function, ::Val{true}, ::ImportanceSampling.CvImportanceSampler, ::Void, ::Void, ::Void, ::Int64, ::Int64, ::Int64\u001b[1m)\u001b[22m\u001b[22m at \u001b[1mC:\\Users\\Hamza El-Saawy\\Documents\\school\\stats362\\project\\src\\importance_sampler.jl:345\u001b[22m\u001b[22m\n",
      " [4] \u001b[1m(::ImportanceSampling.#kw##_update!)\u001b[22m\u001b[22m\u001b[1m(\u001b[22m\u001b[22m::Array{Any,1}, ::ImportanceSampling.#_update!, ::Val{true}, ::ImportanceSampling.CvImportanceSampler, ::Void, ::Void, ::Void, ::Int64, ::Int64, ::Int64\u001b[1m)\u001b[22m\u001b[22m at \u001b[1m.\\<missing>:0\u001b[22m\u001b[22m\n",
      " [5] \u001b[1m#update!#13\u001b[22m\u001b[22m\u001b[1m(\u001b[22m\u001b[22m::Void, ::Void, ::Void, ::Int64, ::Int64, ::Int64, ::Array{Any,1}, ::Function, ::ImportanceSampling.CvImportanceSampler\u001b[1m)\u001b[22m\u001b[22m at \u001b[1mC:\\Users\\Hamza El-Saawy\\Documents\\school\\stats362\\project\\src\\importance_sampler.jl:63\u001b[22m\u001b[22m\n",
      " [6] \u001b[1m(::ImportanceSampling.#kw##update!)\u001b[22m\u001b[22m\u001b[1m(\u001b[22m\u001b[22m::Array{Any,1}, ::ImportanceSampling.#update!, ::ImportanceSampling.CvImportanceSampler\u001b[1m)\u001b[22m\u001b[22m at \u001b[1m.\\<missing>:0\u001b[22m\u001b[22m\n",
      " [7] \u001b[1m#updateβ!#35\u001b[22m\u001b[22m\u001b[1m(\u001b[22m\u001b[22m::Array{Any,1}, ::Function, ::ImportanceSampling.CvImportanceSampler\u001b[1m)\u001b[22m\u001b[22m at \u001b[1mC:\\Users\\Hamza El-Saawy\\Documents\\school\\stats362\\project\\src\\importance_sampler.jl:256\u001b[22m\u001b[22m\n",
      " [8] \u001b[1m(::ImportanceSampling.#kw##updateβ!)\u001b[22m\u001b[22m\u001b[1m(\u001b[22m\u001b[22m::Array{Any,1}, ::ImportanceSampling.#updateβ!, ::ImportanceSampling.CvImportanceSampler\u001b[1m)\u001b[22m\u001b[22m at \u001b[1m.\\<missing>:0\u001b[22m\u001b[22m\n",
      " [9] \u001b[1minclude_string\u001b[22m\u001b[22m\u001b[1m(\u001b[22m\u001b[22m::String, ::String\u001b[1m)\u001b[22m\u001b[22m at \u001b[1m.\\loading.jl:515\u001b[22m\u001b[22m\n",
      " [10] \u001b[1minclude_string\u001b[22m\u001b[22m\u001b[1m(\u001b[22m\u001b[22m::Module, ::String, ::String\u001b[1m)\u001b[22m\u001b[22m at \u001b[1mC:\\Users\\Hamza El-Saawy\\.julia\\v0.6\\Compat\\src\\Compat.jl:71\u001b[22m\u001b[22m\n",
      " [11] \u001b[1mexecute_request\u001b[22m\u001b[22m\u001b[1m(\u001b[22m\u001b[22m::ZMQ.Socket, ::IJulia.Msg\u001b[1m)\u001b[22m\u001b[22m at \u001b[1mC:\\Users\\Hamza El-Saawy\\.julia\\v0.6\\IJulia\\src\\execute_request.jl:158\u001b[22m\u001b[22m\n",
      " [12] \u001b[1m(::Compat.#inner#17{Array{Any,1},IJulia.#execute_request,Tuple{ZMQ.Socket,IJulia.Msg}})\u001b[22m\u001b[22m\u001b[1m(\u001b[22m\u001b[22m\u001b[1m)\u001b[22m\u001b[22m at \u001b[1mC:\\Users\\Hamza El-Saawy\\.julia\\v0.6\\Compat\\src\\Compat.jl:385\u001b[22m\u001b[22m\n",
      " [13] \u001b[1meventloop\u001b[22m\u001b[22m\u001b[1m(\u001b[22m\u001b[22m::ZMQ.Socket\u001b[1m)\u001b[22m\u001b[22m at \u001b[1mC:\\Users\\Hamza El-Saawy\\.julia\\v0.6\\IJulia\\src\\eventloop.jl:8\u001b[22m\u001b[22m\n",
      " [14] \u001b[1m(::IJulia.##14#17)\u001b[22m\u001b[22m\u001b[1m(\u001b[22m\u001b[22m\u001b[1m)\u001b[22m\u001b[22m at \u001b[1m.\\task.jl:335\u001b[22m\u001b[22m\n",
      "while loading In[13], in expression starting on line 1\n"
     ]
    },
    {
     "ename": "LoadError",
     "evalue": "\u001b[91mDimensionMismatch(\"cannot broadcast array to have fewer dimensions\")\u001b[39m",
     "output_type": "error",
     "traceback": [
      "\u001b[91mDimensionMismatch(\"cannot broadcast array to have fewer dimensions\")\u001b[39m",
      "",
      "Stacktrace:",
      " [1] \u001b[1mcheck_broadcast_shape\u001b[22m\u001b[22m\u001b[1m(\u001b[22m\u001b[22m::Tuple{Base.OneTo{Int64}}, ::Tuple{Base.OneTo{Int64},Base.OneTo{Int64}}\u001b[1m)\u001b[22m\u001b[22m at \u001b[1m.\\broadcast.jl:84\u001b[22m\u001b[22m",
      " [2] \u001b[1mbroadcast_c!\u001b[22m\u001b[22m at \u001b[1m.\\broadcast.jl:208\u001b[22m\u001b[22m [inlined]",
      " [3] \u001b[1mbroadcast!\u001b[22m\u001b[22m at \u001b[1m.\\broadcast.jl:204\u001b[22m\u001b[22m [inlined]",
      " [4] \u001b[1mpdf!\u001b[22m\u001b[22m\u001b[1m(\u001b[22m\u001b[22m::Array{Float64,1}, ::Distributions.Uniform{Float64}, ::Array{Float64,2}\u001b[1m)\u001b[22m\u001b[22m at \u001b[1m.\\deprecated.jl:59\u001b[22m\u001b[22m",
      " [5] \u001b[1m#_update!#41\u001b[22m\u001b[22m\u001b[1m(\u001b[22m\u001b[22m::Void, ::Void, ::Bool, ::Bool, ::Array{Any,1}, ::Function, ::Val{true}, ::ImportanceSampling.CvImportanceSampler, ::Void, ::Void, ::Void, ::Int64, ::Int64, ::Int64\u001b[1m)\u001b[22m\u001b[22m at \u001b[1mC:\\Users\\Hamza El-Saawy\\Documents\\school\\stats362\\project\\src\\importance_sampler.jl:345\u001b[22m\u001b[22m",
      " [6] \u001b[1m(::ImportanceSampling.#kw##_update!)\u001b[22m\u001b[22m\u001b[1m(\u001b[22m\u001b[22m::Array{Any,1}, ::ImportanceSampling.#_update!, ::Val{true}, ::ImportanceSampling.CvImportanceSampler, ::Void, ::Void, ::Void, ::Int64, ::Int64, ::Int64\u001b[1m)\u001b[22m\u001b[22m at \u001b[1m.\\<missing>:0\u001b[22m\u001b[22m",
      " [7] \u001b[1m#update!#13\u001b[22m\u001b[22m\u001b[1m(\u001b[22m\u001b[22m::Void, ::Void, ::Void, ::Int64, ::Int64, ::Int64, ::Array{Any,1}, ::Function, ::ImportanceSampling.CvImportanceSampler\u001b[1m)\u001b[22m\u001b[22m at \u001b[1mC:\\Users\\Hamza El-Saawy\\Documents\\school\\stats362\\project\\src\\importance_sampler.jl:63\u001b[22m\u001b[22m",
      " [8] \u001b[1m(::ImportanceSampling.#kw##update!)\u001b[22m\u001b[22m\u001b[1m(\u001b[22m\u001b[22m::Array{Any,1}, ::ImportanceSampling.#update!, ::ImportanceSampling.CvImportanceSampler\u001b[1m)\u001b[22m\u001b[22m at \u001b[1m.\\<missing>:0\u001b[22m\u001b[22m",
      " [9] \u001b[1m#updateβ!#35\u001b[22m\u001b[22m\u001b[1m(\u001b[22m\u001b[22m::Array{Any,1}, ::Function, ::ImportanceSampling.CvImportanceSampler\u001b[1m)\u001b[22m\u001b[22m at \u001b[1mC:\\Users\\Hamza El-Saawy\\Documents\\school\\stats362\\project\\src\\importance_sampler.jl:256\u001b[22m\u001b[22m",
      " [10] \u001b[1m(::ImportanceSampling.#kw##updateβ!)\u001b[22m\u001b[22m\u001b[1m(\u001b[22m\u001b[22m::Array{Any,1}, ::ImportanceSampling.#updateβ!, ::ImportanceSampling.CvImportanceSampler\u001b[1m)\u001b[22m\u001b[22m at \u001b[1m.\\<missing>:0\u001b[22m\u001b[22m",
      " [11] \u001b[1minclude_string\u001b[22m\u001b[22m\u001b[1m(\u001b[22m\u001b[22m::String, ::String\u001b[1m)\u001b[22m\u001b[22m at \u001b[1m.\\loading.jl:515\u001b[22m\u001b[22m"
     ]
    }
   ],
   "source": [
    "updateμ!!(is, niters=1000, nbatches=1)#, updateβ=true, updateμ=false)"
   ]
  }
 ],
 "metadata": {
  "kernelspec": {
   "display_name": "Julia 0.6.0",
   "language": "julia",
   "name": "julia-0.6"
  },
  "language_info": {
   "file_extension": ".jl",
   "mimetype": "application/julia",
   "name": "julia",
   "version": "0.6.0"
  }
 },
 "nbformat": 4,
 "nbformat_minor": 2
}
