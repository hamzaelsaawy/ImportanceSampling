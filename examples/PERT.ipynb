{
 "cells": [
  {
   "cell_type": "code",
   "execution_count": 1,
   "metadata": {},
   "outputs": [],
   "source": [
    "include(\"src\\\\ImportanceSampling.jl\")\n",
    "using ImportanceSampling\n",
    "using Distributions"
   ]
  },
  {
   "cell_type": "code",
   "execution_count": 2,
   "metadata": {},
   "outputs": [],
   "source": [
    "# defined by θ (shape), not λ (rate)\n",
    "struct MvExponential <: ContinuousMultivariateDistribution\n",
    "    Es::Vector{Exponential{Float64}}\n",
    "\n",
    "    function MvExponential(θs::Vector{<:Real})\n",
    "        all(θs .> 0) || error(\"all θs must be > 0\")\n",
    "    \n",
    "        return new(Exponential.(float(θs)))\n",
    "    end\n",
    "end\n",
    "\n",
    "MvExponential(n::Integer) = MvExponential(ones(n))\n",
    "Base.length(d::MvExponential) = length(d.Es)\n",
    "Distributions._rand!(d::MvExponential, x::AbstractVector{<:Real}) = \n",
    "    x .= rand.(d.Es)\n",
    "Distributions._logpdf(d::MvExponential, x::AbstractVector{<:Real}) = \n",
    "    sum(logpdf(d.Es[i], x[i]) for i in 1:length(d))"
   ]
  },
  {
   "cell_type": "code",
   "execution_count": 15,
   "metadata": {},
   "outputs": [
    {
     "data": {
      "text/plain": [
       "f! (generic function with 1 method)"
      ]
     },
     "execution_count": 15,
     "metadata": {},
     "output_type": "execute_result"
    }
   ],
   "source": [
    "function f!(p, x)\n",
    "    E1 = x[1]\n",
    "    E2 = E1 + x[2]\n",
    "    E3 = E1 + x[3]\n",
    "    E4 = E2 + x[4]\n",
    "    E5 = E2 + x[5]\n",
    "    E6 = E3 + x[6]\n",
    "    E7 = E3 + x[7]\n",
    "    E8 = E3 + x[8]\n",
    "    E9 = max(E5, E6, E7) + x[9]\n",
    "    S10 = max(E4, E8, E9)\n",
    "    p[1] = min(1, exp(-(70-S10)/θs[10]))\n",
    "end"
   ]
  },
  {
   "cell_type": "code",
   "execution_count": 16,
   "metadata": {},
   "outputs": [],
   "source": [
    "θs = [4, 4, 2, 5, 2, 3, 2, 3, 2, 2]\n",
    "critpath = zeros(10)\n",
    "critpath[[1, 2, 4, 10]] = 1\n",
    "p = MvExponential(θs)\n",
    "q = MixtureDistribution([p, MvExponential((1+2*critpath).*θs), \n",
    "        MvExponential((1+4*critpath).*θs)], [1, 8, 1])\n",
    "\n",
    "is = ImportanceSampler(f!, 1, q, p=p)\n",
    ";"
   ]
  },
  {
   "cell_type": "code",
   "execution_count": 17,
   "metadata": {},
   "outputs": [],
   "source": [
    "update!(is, niters=10_000, nbatches=10)\n",
    ";"
   ]
  },
  {
   "cell_type": "code",
   "execution_count": null,
   "metadata": {},
   "outputs": [],
   "source": [
    "mean(is)"
   ]
  },
  {
   "cell_type": "code",
   "execution_count": null,
   "metadata": {},
   "outputs": [],
   "source": [
    "sqrt(var(is))"
   ]
  },
  {
   "cell_type": "code",
   "execution_count": null,
   "metadata": {},
   "outputs": [],
   "source": [
    "ne(is)"
   ]
  },
  {
   "cell_type": "code",
   "execution_count": null,
   "metadata": {},
   "outputs": [],
   "source": [
    "neσ(is)"
   ]
  },
  {
   "cell_type": "code",
   "execution_count": 18,
   "metadata": {},
   "outputs": [
    {
     "data": {
      "text/plain": [
       "(3.3882994458725415e-5, 1.8826937629001455e-6, 3668.573204040512, 1464.1844980738745, 2022.2120991057361)"
      ]
     },
     "execution_count": 18,
     "metadata": {},
     "output_type": "execute_result"
    }
   ],
   "source": [
    "neγ(is)"
   ]
  }
 ],
 "metadata": {
  "kernelspec": {
   "display_name": "Julia 0.6.0",
   "language": "julia",
   "name": "julia-0.6"
  },
  "language_info": {
   "file_extension": ".jl",
   "mimetype": "application/julia",
   "name": "julia",
   "version": "0.6.0"
  }
 },
 "nbformat": 4,
 "nbformat_minor": 2
}
