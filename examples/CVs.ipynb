{
 "cells": [
  {
   "cell_type": "code",
   "execution_count": 1,
   "metadata": {},
   "outputs": [],
   "source": [
    "include(\"..\\\\src\\\\ImportanceSampling.jl\")\n",
    "using ImportanceSampling\n",
    "using Distributions"
   ]
  },
  {
   "cell_type": "code",
   "execution_count": 2,
   "metadata": {},
   "outputs": [],
   "source": [
    "srand(2016);"
   ]
  },
  {
   "cell_type": "markdown",
   "metadata": {},
   "source": [
    "# use q"
   ]
  },
  {
   "cell_type": "code",
   "execution_count": 18,
   "metadata": {},
   "outputs": [],
   "source": [
    "p = Normal(8, 1)\n",
    "f!(r, x) = (r .= exp.(-x.^2/2))\n",
    "μ_actual = exp(-16)/sqrt(2)\n",
    "\n",
    "niters = 10_000\n",
    "q = MixtureDistribution([Normal(4, sqrt(1/2)), Normal(2, 2)], [9, 1])\n",
    "X = rand(q, 1, niters)\n",
    "\n",
    "is = ImportanceSampler(f!, 1, q, p=p)\n",
    "cvis = CvImportanceSampler(f!, 1, q, p=p, use_q=true)\n",
    ";"
   ]
  },
  {
   "cell_type": "code",
   "execution_count": 19,
   "metadata": {},
   "outputs": [],
   "source": [
    "update!(is, X=X[:, 1_001:end])\n",
    "updateβ!(cvis, X=X[:, 1:1_000])\n",
    "update!(cvis, X=X[:, 1_001:end])\n",
    ";"
   ]
  },
  {
   "cell_type": "code",
   "execution_count": 20,
   "metadata": {},
   "outputs": [
    {
     "data": {
      "text/plain": [
       "7.957438516600104e-8"
      ]
     },
     "execution_count": 20,
     "metadata": {},
     "output_type": "execute_result"
    }
   ],
   "source": [
    "μ_actual"
   ]
  },
  {
   "cell_type": "code",
   "execution_count": 23,
   "metadata": {},
   "outputs": [
    {
     "data": {
      "text/plain": [
       "0.04382176690616389"
      ]
     },
     "execution_count": 23,
     "metadata": {},
     "output_type": "execute_result"
    }
   ],
   "source": [
    "abs(mean(cvis) - μ_actual)/μ_actual"
   ]
  },
  {
   "cell_type": "code",
   "execution_count": 22,
   "metadata": {},
   "outputs": [
    {
     "data": {
      "text/plain": [
       "(3.4870901584458034e-9, 6.951338535200814e-11)"
      ]
     },
     "execution_count": 22,
     "metadata": {},
     "output_type": "execute_result"
    }
   ],
   "source": [
    "abs(mean(cvis) - μ_actual), abs(mean(is) - μ_actual)"
   ]
  },
  {
   "cell_type": "code",
   "execution_count": 6,
   "metadata": {},
   "outputs": [
    {
     "data": {
      "text/plain": [
       "(2.187929505805078e-48, 3.9754311543069156e-20)"
      ]
     },
     "execution_count": 6,
     "metadata": {},
     "output_type": "execute_result"
    }
   ],
   "source": [
    "var(cvis), var(is)"
   ]
  },
  {
   "cell_type": "markdown",
   "metadata": {},
   "source": [
    "# simple"
   ]
  },
  {
   "cell_type": "code",
   "execution_count": 7,
   "metadata": {},
   "outputs": [],
   "source": [
    "g!s = [((r, x) -> r .= 2*x, [1.0])\n",
    "    ((r, x) -> begin\n",
    "        y = first(x)\n",
    "        r[1] = 5*y.^2\n",
    "        r[2] = 2*y.^3\n",
    "        r\n",
    "    end, [5/3, 1/2])]\n",
    "\n",
    "f!(r, x) = r .= x.^2 - 3*x\n",
    "\n",
    "niters = 10_000\n",
    "q = Uniform()\n",
    "X = rand(q, 1, niters)\n",
    "\n",
    "cvis = CvImportanceSampler(f!, 1, q, g!s=g!s, w=((_)->1.0))\n",
    "is = ImportanceSampler(f!, 1, q, w=((_)->1.0))\n",
    "\n",
    "μ_actual = -7/6 \n",
    ";\n",
    "\n",
    "update!(is, X=X)\n",
    "updateβ!(cvis, X=X[:, 1:1_000])\n",
    "update!(cvis, X=X[:, 1_001:end])\n",
    ";"
   ]
  },
  {
   "cell_type": "code",
   "execution_count": 8,
   "metadata": {},
   "outputs": [
    {
     "data": {
      "text/plain": [
       "3×1 Array{Float64,2}:\n",
       " -1.5        \n",
       "  0.2        \n",
       " -1.64059e-13"
      ]
     },
     "execution_count": 8,
     "metadata": {},
     "output_type": "execute_result"
    }
   ],
   "source": [
    "coeffs(cvis)"
   ]
  },
  {
   "cell_type": "code",
   "execution_count": 9,
   "metadata": {},
   "outputs": [
    {
     "data": {
      "text/plain": [
       "(-1.1666666666666665, -1.1605501287479578)"
      ]
     },
     "execution_count": 9,
     "metadata": {},
     "output_type": "execute_result"
    }
   ],
   "source": [
    "mean(cvis), mean(is)"
   ]
  },
  {
   "cell_type": "code",
   "execution_count": 10,
   "metadata": {},
   "outputs": [
    {
     "data": {
      "text/plain": [
       "(2.220446049250313e-16, 0.00611653791870892)"
      ]
     },
     "execution_count": 10,
     "metadata": {},
     "output_type": "execute_result"
    }
   ],
   "source": [
    "abs(mean(cvis) - μ_actual) , abs.(mean(is) - μ_actual)"
   ]
  },
  {
   "cell_type": "code",
   "execution_count": 11,
   "metadata": {},
   "outputs": [
    {
     "data": {
      "text/plain": [
       "(4.557350068424305e-33, 3.4226467239699256e-5)"
      ]
     },
     "execution_count": 11,
     "metadata": {},
     "output_type": "execute_result"
    }
   ],
   "source": [
    "var(cvis), var(is)"
   ]
  }
 ],
 "metadata": {
  "kernelspec": {
   "display_name": "Julia 0.6.0",
   "language": "julia",
   "name": "julia-0.6"
  },
  "language_info": {
   "file_extension": ".jl",
   "mimetype": "application/julia",
   "name": "julia",
   "version": "0.6.0"
  }
 },
 "nbformat": 4,
 "nbformat_minor": 2
}
