{
 "cells": [
  {
   "cell_type": "code",
   "execution_count": 1,
   "metadata": {},
   "outputs": [],
   "source": [
    "include(\"src\\\\ImportanceSampling.jl\")\n",
    "using ImportanceSampling\n",
    "using Distributions"
   ]
  },
  {
   "cell_type": "code",
   "execution_count": 2,
   "metadata": {},
   "outputs": [],
   "source": [
    "srand(2016);"
   ]
  },
  {
   "cell_type": "code",
   "execution_count": 3,
   "metadata": {},
   "outputs": [],
   "source": [
    "using Seaborn"
   ]
  },
  {
   "cell_type": "markdown",
   "metadata": {},
   "source": [
    "# use q"
   ]
  },
  {
   "cell_type": "code",
   "execution_count": 4,
   "metadata": {},
   "outputs": [],
   "source": [
    "p = Normal(8, 1)\n",
    "f!(r, x) = (r .= exp.(-x.^2/2))\n",
    "μ_actual = exp(-16)/sqrt(2)\n",
    "\n",
    "niters = 10_000\n",
    "# q = Normal(4, sqrt(1/2))\n",
    "q = MixtureDistribution([Normal(4, sqrt(1/2)), Normal(2, 2)], [9, 1])\n",
    "X = rand(q, 1, niters)\n",
    "\n",
    "is = ImportanceSampler(f!, 1, q, p=p)\n",
    "cvis = CvImportanceSampler(f!, 1, q, p=p, use_q=true)\n",
    ";"
   ]
  },
  {
   "cell_type": "code",
   "execution_count": 5,
   "metadata": {},
   "outputs": [],
   "source": [
    "update!(is, X=X[:, 1_001:end])\n",
    "updateβ!(cvis, X=X[:, 1:1_000])\n",
    "update!(cvis, X=X[:, 1_001:end])\n",
    ";"
   ]
  },
  {
   "cell_type": "code",
   "execution_count": 6,
   "metadata": {},
   "outputs": [
    {
     "data": {
      "text/plain": [
       "(7.957438516600256e-9, 1.9308598312598014e-10)"
      ]
     },
     "execution_count": 6,
     "metadata": {},
     "output_type": "execute_result"
    }
   ],
   "source": [
    "abs(mean(cvis) - μ_actual), abs(mean(is) - μ_actual)"
   ]
  },
  {
   "cell_type": "code",
   "execution_count": 7,
   "metadata": {},
   "outputs": [
    {
     "data": {
      "text/plain": [
       "(1.6984583224354317e-47, 3.9754311543069156e-20)"
      ]
     },
     "execution_count": 7,
     "metadata": {},
     "output_type": "execute_result"
    }
   ],
   "source": [
    "var(cvis), var(is)"
   ]
  },
  {
   "cell_type": "markdown",
   "metadata": {},
   "source": [
    "# simple"
   ]
  },
  {
   "cell_type": "code",
   "execution_count": 8,
   "metadata": {},
   "outputs": [
    {
     "data": {
      "text/plain": [
       "2-element Array{Tuple{Function,Array{Float64,1}},1}:\n",
       " (#3, [1.0])         \n",
       " (#4, [1.66667, 0.5])"
      ]
     },
     "execution_count": 8,
     "metadata": {},
     "output_type": "execute_result"
    }
   ],
   "source": [
    "g!s = [((r, x) -> r .= 2*x, [1.0])\n",
    "    ((r, x) -> begin\n",
    "        y = first(x)\n",
    "        r[1] = 5*y.^2\n",
    "        r[2] = 2*y.^3\n",
    "        r\n",
    "    end, [5/3, 1/2])]"
   ]
  },
  {
   "cell_type": "code",
   "execution_count": 9,
   "metadata": {},
   "outputs": [],
   "source": [
    "f!(r, x) = r .= x.^2 - 3*x\n",
    "\n",
    "niters = 10_000\n",
    "q = Uniform()\n",
    "X = rand(q, 1, niters)\n",
    "\n",
    "cvis = CvImportanceSampler(f!, 1, q, g!s=g!s, w=((_)->1.0))\n",
    "is = ImportanceSampler(f!, 1, q, w=((_)->1.0))\n",
    "\n",
    "μ_actual = -7/6 \n",
    ";"
   ]
  },
  {
   "cell_type": "code",
   "execution_count": 10,
   "metadata": {
    "scrolled": true
   },
   "outputs": [],
   "source": [
    "update!(is, X=X)\n",
    "updateβ!(cvis, X=X[:, 1:1_000])\n",
    "update!(cvis, X=X[:, 1_001:end])\n",
    ";"
   ]
  },
  {
   "cell_type": "code",
   "execution_count": 11,
   "metadata": {},
   "outputs": [
    {
     "data": {
      "text/plain": [
       "3×1 Array{Float64,2}:\n",
       " -1.5        \n",
       "  0.2        \n",
       " -1.39776e-13"
      ]
     },
     "execution_count": 11,
     "metadata": {},
     "output_type": "execute_result"
    }
   ],
   "source": [
    "coeffs(cvis)"
   ]
  },
  {
   "cell_type": "code",
   "execution_count": 12,
   "metadata": {},
   "outputs": [
    {
     "data": {
      "text/plain": [
       "(0.0, 0.00611653791870892)"
      ]
     },
     "execution_count": 12,
     "metadata": {},
     "output_type": "execute_result"
    }
   ],
   "source": [
    "abs.(mean(cvis) - μ_actual) , abs.(mean(is) - μ_actual)"
   ]
  },
  {
   "cell_type": "code",
   "execution_count": 13,
   "metadata": {},
   "outputs": [
    {
     "data": {
      "text/plain": [
       "(3.3162702688746085e-33, 3.4226467239699256e-5)"
      ]
     },
     "execution_count": 13,
     "metadata": {},
     "output_type": "execute_result"
    }
   ],
   "source": [
    "var(cvis), var(is)"
   ]
  }
 ],
 "metadata": {
  "kernelspec": {
   "display_name": "Julia 0.6.0",
   "language": "julia",
   "name": "julia-0.6"
  },
  "language_info": {
   "file_extension": ".jl",
   "mimetype": "application/julia",
   "name": "julia",
   "version": "0.6.0"
  }
 },
 "nbformat": 4,
 "nbformat_minor": 2
}
