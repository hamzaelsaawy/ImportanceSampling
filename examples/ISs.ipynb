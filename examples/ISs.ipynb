{
 "cells": [
  {
   "cell_type": "code",
   "execution_count": 1,
   "metadata": {},
   "outputs": [],
   "source": [
    "include(\"..\\\\src\\\\ImportanceSampling.jl\")\n",
    "using ImportanceSampling\n",
    "using Distributions\n",
    "using Seaborn"
   ]
  },
  {
   "cell_type": "code",
   "execution_count": 2,
   "metadata": {},
   "outputs": [
    {
     "name": "stderr",
     "output_type": "stream",
     "text": [
      "\u001b[1m\u001b[33mWARNING: \u001b[39m\u001b[22m\u001b[33msqrt{T <: Number}(x::AbstractArray{T}) is deprecated, use sqrt.(x) instead.\u001b[39m\n",
      "Stacktrace:\n",
      " [1] \u001b[1mdepwarn\u001b[22m\u001b[22m\u001b[1m(\u001b[22m\u001b[22m::String, ::Symbol\u001b[1m)\u001b[22m\u001b[22m at \u001b[1m.\\deprecated.jl:70\u001b[22m\u001b[22m\n",
      " [2] \u001b[1msqrt\u001b[22m\u001b[22m\u001b[1m(\u001b[22m\u001b[22m::Array{Float64,2}\u001b[1m)\u001b[22m\u001b[22m at \u001b[1m.\\deprecated.jl:57\u001b[22m\u001b[22m\n",
      " [3] \u001b[1m_rand!\u001b[22m\u001b[22m\u001b[1m(\u001b[22m\u001b[22m::Distributions.GenericMvTDist{Float64,PDMats.PDMat{Float64,Array{Float64,2}}}, ::Array{Float64,2}\u001b[1m)\u001b[22m\u001b[22m at \u001b[1mC:\\Users\\Hamza El-Saawy\\.julia\\v0.6\\Distributions\\src\\multivariate\\mvtdist.jl:176\u001b[22m\u001b[22m\n",
      " [4] \u001b[1mrand!\u001b[22m\u001b[22m\u001b[1m(\u001b[22m\u001b[22m::Distributions.GenericMvTDist{Float64,PDMats.PDMat{Float64,Array{Float64,2}}}, ::Array{Float64,2}\u001b[1m)\u001b[22m\u001b[22m at \u001b[1mC:\\Users\\Hamza El-Saawy\\.julia\\v0.6\\Distributions\\src\\multivariates.jl:36\u001b[22m\u001b[22m\n",
      " [5] \u001b[1m#_update!#31\u001b[22m\u001b[22m\u001b[1m(\u001b[22m\u001b[22m::Bool, ::Array{Any,1}, ::Function, ::Val{true}, ::ImportanceSampling.ImportanceSampler, ::Void, ::Void, ::Void, ::Int64, ::Int64, ::Int64\u001b[1m)\u001b[22m\u001b[22m at \u001b[1mC:\\Users\\Hamza El-Saawy\\Documents\\school\\stats362\\project\\src\\importance_sampler.jl:211\u001b[22m\u001b[22m\n",
      " [6] \u001b[1m#update!#13\u001b[22m\u001b[22m\u001b[1m(\u001b[22m\u001b[22m::Void, ::Void, ::Void, ::Int64, ::Int64, ::Int64, ::Array{Any,1}, ::Function, ::ImportanceSampling.ImportanceSampler\u001b[1m)\u001b[22m\u001b[22m at \u001b[1mC:\\Users\\Hamza El-Saawy\\Documents\\school\\stats362\\project\\src\\importance_sampler.jl:63\u001b[22m\u001b[22m\n",
      " [7] \u001b[1m(::ImportanceSampling.#kw##update!)\u001b[22m\u001b[22m\u001b[1m(\u001b[22m\u001b[22m::Array{Any,1}, ::ImportanceSampling.#update!, ::ImportanceSampling.ImportanceSampler\u001b[1m)\u001b[22m\u001b[22m at \u001b[1m.\\<missing>:0\u001b[22m\u001b[22m\n",
      " [8] \u001b[1minclude_string\u001b[22m\u001b[22m\u001b[1m(\u001b[22m\u001b[22m::String, ::String\u001b[1m)\u001b[22m\u001b[22m at \u001b[1m.\\loading.jl:515\u001b[22m\u001b[22m\n",
      " [9] \u001b[1minclude_string\u001b[22m\u001b[22m\u001b[1m(\u001b[22m\u001b[22m::Module, ::String, ::String\u001b[1m)\u001b[22m\u001b[22m at \u001b[1mC:\\Users\\Hamza El-Saawy\\.julia\\v0.6\\Compat\\src\\Compat.jl:71\u001b[22m\u001b[22m\n",
      " [10] \u001b[1mexecute_request\u001b[22m\u001b[22m\u001b[1m(\u001b[22m\u001b[22m::ZMQ.Socket, ::IJulia.Msg\u001b[1m)\u001b[22m\u001b[22m at \u001b[1mC:\\Users\\Hamza El-Saawy\\.julia\\v0.6\\IJulia\\src\\execute_request.jl:158\u001b[22m\u001b[22m\n",
      " [11] \u001b[1m(::Compat.#inner#17{Array{Any,1},IJulia.#execute_request,Tuple{ZMQ.Socket,IJulia.Msg}})\u001b[22m\u001b[22m\u001b[1m(\u001b[22m\u001b[22m\u001b[1m)\u001b[22m\u001b[22m at \u001b[1mC:\\Users\\Hamza El-Saawy\\.julia\\v0.6\\Compat\\src\\Compat.jl:385\u001b[22m\u001b[22m\n",
      " [12] \u001b[1meventloop\u001b[22m\u001b[22m\u001b[1m(\u001b[22m\u001b[22m::ZMQ.Socket\u001b[1m)\u001b[22m\u001b[22m at \u001b[1mC:\\Users\\Hamza El-Saawy\\.julia\\v0.6\\IJulia\\src\\eventloop.jl:8\u001b[22m\u001b[22m\n",
      " [13] \u001b[1m(::IJulia.##14#17)\u001b[22m\u001b[22m\u001b[1m(\u001b[22m\u001b[22m\u001b[1m)\u001b[22m\u001b[22m at \u001b[1m.\\task.jl:335\u001b[22m\u001b[22m\n",
      "while loading In[2], in expression starting on line 6\n"
     ]
    },
    {
     "data": {
      "text/plain": [
       "ImportanceSampling.ImportanceSampler(Distributions.GenericMvTDist{Float64,PDMats.PDMat{Float64,Array{Float64,2}}}(\n",
       "df: 1.0\n",
       "dim: 2\n",
       "zeromean: true\n",
       "μ: [0.0, 0.0]\n",
       "Σ: PDMats.PDMat{Float64,Array{Float64,2}}(2, [5.0 0.0; 0.0 5.0], Base.LinAlg.Cholesky{Float64,Array{Float64,2}} with factor:\n",
       "[2.23607 0.0; 0.0 2.23607])\n",
       ")\n",
       ", ImportanceSampling.MeanVariance{4}(10000, [19473.8, 19305.8, 49008.0, 48540.4], [5.83422e5 5.0781e5 1.56516e6 1.235e6; 5.0781e5 5.73519e5 1.24603e6 1.53381e6; 1.56516e6 1.24603e6 4.46438e6 3.00597e6; 1.235e6 1.53381e6 3.00597e6 4.38048e6]), ImportanceSampling.Diagnostic(10000, 9732.072656586979, 112737.19396266271, 1.8159411339600803e6, 3.346280169561414e7), ImportanceSampling.#22, f!)"
      ]
     },
     "execution_count": 2,
     "metadata": {},
     "output_type": "execute_result"
    }
   ],
   "source": [
    "p = MvNormal(2.0*ones(2), eye(2))\n",
    "q = MvTDist(1, zeros(2), eye(2)*5)\n",
    "f!(r, x) = r .= vcat(x, x.^2)\n",
    "\n",
    "is = ImportanceSampler(f!, 4, q, p=p)\n",
    "update!(is, batchsize=1000, nbatches=10)"
   ]
  },
  {
   "cell_type": "code",
   "execution_count": 3,
   "metadata": {},
   "outputs": [
    {
     "data": {
      "text/plain": [
       "2-element Array{Float64,1}:\n",
       " 1.94738\n",
       " 1.93058"
      ]
     },
     "execution_count": 3,
     "metadata": {},
     "output_type": "execute_result"
    }
   ],
   "source": [
    "m = mean(is)\n",
    "m[1:2]"
   ]
  },
  {
   "cell_type": "code",
   "execution_count": 4,
   "metadata": {},
   "outputs": [
    {
     "data": {
      "text/plain": [
       "2-element Array{Float64,1}:\n",
       " 1.1085 \n",
       " 1.12691"
      ]
     },
     "execution_count": 4,
     "metadata": {},
     "output_type": "execute_result"
    }
   ],
   "source": [
    "m[3:4] .- m[1:2].^2"
   ]
  },
  {
   "cell_type": "code",
   "execution_count": 5,
   "metadata": {},
   "outputs": [
    {
     "data": {
      "text/plain": [
       "4-element Array{Float64,1}:\n",
       " 0.00583481\n",
       " 0.00573577\n",
       " 0.0446483 \n",
       " 0.0438092 "
      ]
     },
     "execution_count": 5,
     "metadata": {},
     "output_type": "execute_result"
    }
   ],
   "source": [
    "var(is)"
   ]
  }
 ],
 "metadata": {
  "kernelspec": {
   "display_name": "Julia 0.6.0",
   "language": "julia",
   "name": "julia-0.6"
  },
  "language_info": {
   "file_extension": ".jl",
   "mimetype": "application/julia",
   "name": "julia",
   "version": "0.6.0"
  }
 },
 "nbformat": 4,
 "nbformat_minor": 2
}
