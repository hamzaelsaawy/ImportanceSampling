{
 "cells": [
  {
   "cell_type": "code",
   "execution_count": 4,
   "metadata": {},
   "outputs": [
    {
     "name": "stderr",
     "output_type": "stream",
     "text": [
      "WARNING: Method definition midpoints(Base.Range{T} where T) in module Base at deprecated.jl:56 overwritten in module StatsBase at C:\\Users\\Hamza El-Saawy\\.julia\\v0.6\\StatsBase\\src\\hist.jl:535.\n",
      "WARNING: Method definition midpoints(AbstractArray{T, 1} where T) in module Base at deprecated.jl:56 overwritten in module StatsBase at C:\\Users\\Hamza El-Saawy\\.julia\\v0.6\\StatsBase\\src\\hist.jl:533.\n"
     ]
    }
   ],
   "source": [
    "include(\"src\\\\ImportanceSampling.jl\")\n",
    "using ImportanceSampling\n",
    "using Distributions"
   ]
  },
  {
   "cell_type": "code",
   "execution_count": 5,
   "metadata": {},
   "outputs": [
    {
     "name": "stderr",
     "output_type": "stream",
     "text": [
      "WARNING: imported binding for is overwritten in module Main\n"
     ]
    },
    {
     "data": {
      "text/plain": [
       "1×1000 Array{Float64,2}:\n",
       " 5.35652  -1.83752  3.17133  5.66795  …  3.34163  -0.570089  2.39136  2.6044"
      ]
     },
     "execution_count": 5,
     "metadata": {},
     "output_type": "execute_result"
    }
   ],
   "source": [
    "p = Weibull(2, 4)\n",
    "q = Normal(2, 3)\n",
    "f!(r, x) = r[1:2] = Float64[x[1], x[1]^2]\n",
    "\n",
    "is = ImportanceSampler(f!, 2, q, p=p)\n",
    "\n",
    "N = 1000\n",
    "X = ImportanceSampling._safe_rand(q, N)"
   ]
  },
  {
   "cell_type": "code",
   "execution_count": 6,
   "metadata": {},
   "outputs": [
    {
     "data": {
      "text/plain": [
       "true"
      ]
     },
     "execution_count": 6,
     "metadata": {},
     "output_type": "execute_result"
    }
   ],
   "source": [
    "all( abs.(ImportanceSampling.calcF(is, X) .- hcat([f!(zeros(2), X[:, i]) for i in 1:N]...)) .< 1e-15 )"
   ]
  },
  {
   "cell_type": "code",
   "execution_count": 7,
   "metadata": {},
   "outputs": [
    {
     "data": {
      "text/plain": [
       "true"
      ]
     },
     "execution_count": 7,
     "metadata": {},
     "output_type": "execute_result"
    }
   ],
   "source": [
    "all( abs.(ImportanceSampling.calcW(is, X) .- [pdf(p, X[i])/pdf(q, X[i]) for i in 1:N]) .< 5e-14 )"
   ]
  },
  {
   "cell_type": "code",
   "execution_count": 8,
   "metadata": {},
   "outputs": [
    {
     "data": {
      "text/plain": [
       "ImportanceSampling.ImportanceSampler(Distributions.Normal{Float64}(μ=2.0, σ=3.0), ImportanceSampling.MeanVariance{2}(0, [0.0, 0.0], [0.0 0.0; 0.0 0.0]), ImportanceSampling.Diagnostic(0, 0.0, 0.0, 0.0, 0.0), ImportanceSampling.#22, f!)"
      ]
     },
     "execution_count": 8,
     "metadata": {},
     "output_type": "execute_result"
    }
   ],
   "source": [
    "is"
   ]
  },
  {
   "cell_type": "code",
   "execution_count": 16,
   "metadata": {},
   "outputs": [
    {
     "data": {
      "text/plain": [
       "false"
      ]
     },
     "execution_count": 16,
     "metadata": {},
     "output_type": "execute_result"
    }
   ],
   "source": [
    "sum([0, 1, 0] .== 0) == 1"
   ]
  },
  {
   "cell_type": "code",
   "execution_count": 9,
   "metadata": {},
   "outputs": [
    {
     "ename": "LoadError",
     "evalue": "\u001b[91mInexactError()\u001b[39m",
     "output_type": "error",
     "traceback": [
      "\u001b[91mInexactError()\u001b[39m",
      "",
      "Stacktrace:",
      " [1] \u001b[1mtrunc\u001b[22m\u001b[22m\u001b[1m(\u001b[22m\u001b[22m::Type{Int64}, ::Float64\u001b[1m)\u001b[22m\u001b[22m at \u001b[1m.\\float.jl:672\u001b[22m\u001b[22m",
      " [2] \u001b[1mround_div\u001b[22m\u001b[22m at \u001b[1mC:\\Users\\Hamza El-Saawy\\Documents\\school\\stats362\\project\\src\\auxiliary.jl:18\u001b[22m\u001b[22m [inlined]",
      " [3] \u001b[1m#update!#13\u001b[22m\u001b[22m\u001b[1m(\u001b[22m\u001b[22m::Array{Float64,2}, ::Void, ::Void, ::Int64, ::Int64, ::Int64, ::Array{Any,1}, ::Function, ::ImportanceSampling.ImportanceSampler\u001b[1m)\u001b[22m\u001b[22m at \u001b[1mC:\\Users\\Hamza El-Saawy\\Documents\\school\\stats362\\project\\src\\importance_sampler.jl:40\u001b[22m\u001b[22m",
      " [4] \u001b[1m(::ImportanceSampling.#kw##update!)\u001b[22m\u001b[22m\u001b[1m(\u001b[22m\u001b[22m::Array{Any,1}, ::ImportanceSampling.#update!, ::ImportanceSampling.ImportanceSampler\u001b[1m)\u001b[22m\u001b[22m at \u001b[1m.\\<missing>:0\u001b[22m\u001b[22m",
      " [5] \u001b[1minclude_string\u001b[22m\u001b[22m\u001b[1m(\u001b[22m\u001b[22m::String, ::String\u001b[1m)\u001b[22m\u001b[22m at \u001b[1m.\\loading.jl:515\u001b[22m\u001b[22m"
     ]
    }
   ],
   "source": [
    "update!(is, X=X, N=1)"
   ]
  }
 ],
 "metadata": {
  "kernelspec": {
   "display_name": "Julia 0.6.0",
   "language": "julia",
   "name": "julia-0.6"
  },
  "language_info": {
   "file_extension": ".jl",
   "mimetype": "application/julia",
   "name": "julia",
   "version": "0.6.0"
  }
 },
 "nbformat": 4,
 "nbformat_minor": 2
}
