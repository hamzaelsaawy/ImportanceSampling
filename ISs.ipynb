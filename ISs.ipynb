{
 "cells": [
  {
   "cell_type": "code",
   "execution_count": 1,
   "metadata": {},
   "outputs": [],
   "source": [
    "include(\"src\\\\ImportanceSampling.jl\")\n",
    "using Distributions\n",
    "using ImportanceSampling"
   ]
  },
  {
   "cell_type": "code",
   "execution_count": 2,
   "metadata": {},
   "outputs": [],
   "source": [
    "p = Weibull(2, 4)\n",
    "q = Exponential(2)\n",
    "f!(r, x) = r[1:2] = Float64[x[1], x[1]^2]\n",
    "\n",
    "is = ImportanceSampler(f!, 2, q, p=p)\n",
    "\n",
    "N = 5000\n",
    "X = rand(q, N)\n",
    ";"
   ]
  },
  {
   "cell_type": "code",
   "execution_count": 4,
   "metadata": {},
   "outputs": [
    {
     "data": {
      "text/plain": [
       "false"
      ]
     },
     "execution_count": 4,
     "metadata": {},
     "output_type": "execute_result"
    }
   ],
   "source": [
    "t = zeros(2)\n",
    "m = sum(f!(t, X[i]).*pdf(p, X[i])/pdf.(q, X[i]) for i in 1:N) ./ N\n",
    "isapprox(mean(is), m)"
   ]
  },
  {
   "cell_type": "code",
   "execution_count": 5,
   "metadata": {},
   "outputs": [
    {
     "data": {
      "text/plain": [
       "2-element Array{Float64,1}:\n",
       " NaN\n",
       " NaN"
      ]
     },
     "execution_count": 5,
     "metadata": {},
     "output_type": "execute_result"
    }
   ],
   "source": [
    "mean(is) - [mean(p), var(p) + mean(p)^2]"
   ]
  },
  {
   "cell_type": "markdown",
   "metadata": {},
   "source": [
    "# MV"
   ]
  },
  {
   "cell_type": "code",
   "execution_count": 84,
   "metadata": {},
   "outputs": [
    {
     "name": "stderr",
     "output_type": "stream",
     "text": [
      "\u001b[1m\u001b[33mWARNING: \u001b[39m\u001b[22m\u001b[33msqrt{T <: Number}(x::AbstractArray{T}) is deprecated, use sqrt.(x) instead.\u001b[39m\n",
      "Stacktrace:\n",
      " [1] \u001b[1mdepwarn\u001b[22m\u001b[22m\u001b[1m(\u001b[22m\u001b[22m::String, ::Symbol\u001b[1m)\u001b[22m\u001b[22m at \u001b[1m.\\deprecated.jl:70\u001b[22m\u001b[22m\n",
      " [2] \u001b[1msqrt\u001b[22m\u001b[22m\u001b[1m(\u001b[22m\u001b[22m::Array{Float64,2}\u001b[1m)\u001b[22m\u001b[22m at \u001b[1m.\\deprecated.jl:57\u001b[22m\u001b[22m\n",
      " [3] \u001b[1m_rand!\u001b[22m\u001b[22m\u001b[1m(\u001b[22m\u001b[22m::Distributions.GenericMvTDist{Float64,PDMats.PDMat{Float64,Array{Float64,2}}}, ::Array{Float64,2}\u001b[1m)\u001b[22m\u001b[22m at \u001b[1mC:\\Users\\Hamza El-Saawy\\.julia\\v0.6\\Distributions\\src\\multivariate\\mvtdist.jl:176\u001b[22m\u001b[22m\n",
      " [4] \u001b[1mrand\u001b[22m\u001b[22m\u001b[1m(\u001b[22m\u001b[22m::Distributions.GenericMvTDist{Float64,PDMats.PDMat{Float64,Array{Float64,2}}}, ::Int64\u001b[1m)\u001b[22m\u001b[22m at \u001b[1mC:\\Users\\Hamza El-Saawy\\.julia\\v0.6\\Distributions\\src\\multivariates.jl:50\u001b[22m\u001b[22m\n",
      " [5] \u001b[1minclude_string\u001b[22m\u001b[22m\u001b[1m(\u001b[22m\u001b[22m::String, ::String\u001b[1m)\u001b[22m\u001b[22m at \u001b[1m.\\loading.jl:515\u001b[22m\u001b[22m\n",
      " [6] \u001b[1minclude_string\u001b[22m\u001b[22m\u001b[1m(\u001b[22m\u001b[22m::Module, ::String, ::String\u001b[1m)\u001b[22m\u001b[22m at \u001b[1mC:\\Users\\Hamza El-Saawy\\.julia\\v0.6\\Compat\\src\\Compat.jl:71\u001b[22m\u001b[22m\n",
      " [7] \u001b[1mexecute_request\u001b[22m\u001b[22m\u001b[1m(\u001b[22m\u001b[22m::ZMQ.Socket, ::IJulia.Msg\u001b[1m)\u001b[22m\u001b[22m at \u001b[1mC:\\Users\\Hamza El-Saawy\\.julia\\v0.6\\IJulia\\src\\execute_request.jl:158\u001b[22m\u001b[22m\n",
      " [8] \u001b[1m(::Compat.#inner#17{Array{Any,1},IJulia.#execute_request,Tuple{ZMQ.Socket,IJulia.Msg}})\u001b[22m\u001b[22m\u001b[1m(\u001b[22m\u001b[22m\u001b[1m)\u001b[22m\u001b[22m at \u001b[1mC:\\Users\\Hamza El-Saawy\\.julia\\v0.6\\Compat\\src\\Compat.jl:385\u001b[22m\u001b[22m\n",
      " [9] \u001b[1meventloop\u001b[22m\u001b[22m\u001b[1m(\u001b[22m\u001b[22m::ZMQ.Socket\u001b[1m)\u001b[22m\u001b[22m at \u001b[1mC:\\Users\\Hamza El-Saawy\\.julia\\v0.6\\IJulia\\src\\eventloop.jl:8\u001b[22m\u001b[22m\n",
      " [10] \u001b[1m(::IJulia.##14#17)\u001b[22m\u001b[22m\u001b[1m(\u001b[22m\u001b[22m\u001b[1m)\u001b[22m\u001b[22m at \u001b[1m.\\task.jl:335\u001b[22m\u001b[22m\n",
      "while loading In[84], in expression starting on line 8\n"
     ]
    }
   ],
   "source": [
    "p = MvNormal(2.0*ones(2), eye(2))\n",
    "q = MvTDist(1, zeros(2), eye(2)*5)\n",
    "f!(r, x) = r[:] = vcat(x, x.^2)\n",
    "\n",
    "is = ImportanceSampler(f!, 4, q, p=p)\n",
    "\n",
    "N = 5000\n",
    "X = rand(q, N)\n",
    ";"
   ]
  },
  {
   "cell_type": "code",
   "execution_count": 48,
   "metadata": {},
   "outputs": [
    {
     "data": {
      "text/plain": [
       "ImportanceSampling.Diagnostic(5000, 5100.831515511719, 39068.02775873413, 405048.3541831882, 4.76868615717365e6)"
      ]
     },
     "execution_count": 48,
     "metadata": {},
     "output_type": "execute_result"
    }
   ],
   "source": [
    "update!(is, X=X)"
   ]
  },
  {
   "cell_type": "code",
   "execution_count": 58,
   "metadata": {},
   "outputs": [
    {
     "data": {
      "text/plain": [
       "4-element Array{Float64,1}:\n",
       " 2.07596\n",
       " 2.03016\n",
       " 5.25755\n",
       " 5.05987"
      ]
     },
     "execution_count": 58,
     "metadata": {},
     "output_type": "execute_result"
    }
   ],
   "source": [
    "t = zeros(4)\n",
    "m = sum(f!(t, X[:, i]).*pdf(p, X[:, i])/pdf(q, X[:, i]) for i in 1:N) ./ N\n",
    "isapprox(mean(is), m)"
   ]
  },
  {
   "cell_type": "code",
   "execution_count": 65,
   "metadata": {},
   "outputs": [
    {
     "data": {
      "text/plain": [
       "4-element Array{Float64,1}:\n",
       " 2.07596\n",
       " 2.03016\n",
       " 5.25755\n",
       " 5.05987"
      ]
     },
     "execution_count": 65,
     "metadata": {},
     "output_type": "execute_result"
    }
   ],
   "source": [
    "mean(is)"
   ]
  },
  {
   "cell_type": "code",
   "execution_count": 62,
   "metadata": {},
   "outputs": [
    {
     "data": {
      "text/plain": [
       "4-element Array{Float64,1}:\n",
       " 0.0759634\n",
       " 0.0301567\n",
       " 0.257546 \n",
       " 0.0598705"
      ]
     },
     "execution_count": 62,
     "metadata": {},
     "output_type": "execute_result"
    }
   ],
   "source": [
    "mean(is) - vcat(mean(p), var(p) + mean(p).^2)"
   ]
  },
  {
   "cell_type": "markdown",
   "metadata": {},
   "source": [
    "# exponential tilting"
   ]
  },
  {
   "cell_type": "markdown",
   "metadata": {},
   "source": [
    "$$ w(x) = p(x, \\theta_0)/p(x, \\theta) $$"
   ]
  },
  {
   "cell_type": "markdown",
   "metadata": {},
   "source": [
    "## normal"
   ]
  },
  {
   "cell_type": "code",
   "execution_count": 156,
   "metadata": {},
   "outputs": [
    {
     "data": {
      "text/plain": [
       "gen_w_normal (generic function with 2 methods)"
      ]
     },
     "execution_count": 156,
     "metadata": {},
     "output_type": "execute_result"
    }
   ],
   "source": [
    "function gen_w_normal(μ0, μ, Σ)\n",
    "    invΣ = inv(Σ)\n",
    "    dη = invΣ*(μ0-μ)\n",
    "    C = exp(1/2*( dot(μ, invΣ*μ) - dot(μ0, invΣ*μ0) ))\n",
    "    return x -> C*exp(dot(x, dη))\n",
    "end"
   ]
  },
  {
   "cell_type": "code",
   "execution_count": 161,
   "metadata": {},
   "outputs": [],
   "source": [
    "f!(r, x) = r[1:2] = Float64[x[1], x[1]^2]\n",
    "\n",
    "m0s = linspace(-5, 5, 11)\n",
    "m = 1.0\n",
    "q = Normal()\n",
    "ws = [gen_w_normal(m0, 0, 1) for m0 in m0s]\n",
    "iss = [ImportanceSampler(f!, 1, q, w=w) for w in ws]\n",
    ";"
   ]
  },
  {
   "cell_type": "code",
   "execution_count": 167,
   "metadata": {},
   "outputs": [
    {
     "data": {
      "text/plain": [
       "0"
      ]
     },
     "execution_count": 167,
     "metadata": {},
     "output_type": "execute_result"
    }
   ],
   "source": [
    "xor(0, 0)"
   ]
  },
  {
   "cell_type": "code",
   "execution_count": 165,
   "metadata": {},
   "outputs": [
    {
     "ename": "LoadError",
     "evalue": "\u001b[91mboth F or W must be provided if X is not\u001b[39m",
     "output_type": "error",
     "traceback": [
      "\u001b[91mboth F or W must be provided if X is not\u001b[39m",
      "",
      "Stacktrace:",
      " [1] \u001b[1m#update!#13\u001b[22m\u001b[22m\u001b[1m(\u001b[22m\u001b[22m::Void, ::Void, ::Void, ::Int64, ::Int64, ::Int64, ::Array{Any,1}, ::Function, ::ImportanceSampling.ImportanceSampler\u001b[1m)\u001b[22m\u001b[22m at \u001b[1mC:\\Users\\Hamza El-Saawy\\Documents\\school\\stats362\\project\\src\\importance_sampler.jl:44\u001b[22m\u001b[22m",
      " [2] \u001b[1m(::ImportanceSampling.#kw##update!)\u001b[22m\u001b[22m\u001b[1m(\u001b[22m\u001b[22m::Array{Any,1}, ::ImportanceSampling.#update!, ::ImportanceSampling.ImportanceSampler\u001b[1m)\u001b[22m\u001b[22m at \u001b[1m.\\<missing>:0\u001b[22m\u001b[22m",
      " [3] \u001b[1m_collect\u001b[22m\u001b[22m\u001b[1m(\u001b[22m\u001b[22m::Array{ImportanceSampling.ImportanceSampler,1}, ::Base.Generator{Array{ImportanceSampling.ImportanceSampler,1},##53#54}, ::Base.EltypeUnknown, ::Base.HasShape\u001b[1m)\u001b[22m\u001b[22m at \u001b[1m.\\array.jl:454\u001b[22m\u001b[22m",
      " [4] \u001b[1mmap\u001b[22m\u001b[22m\u001b[1m(\u001b[22m\u001b[22m::Function, ::Array{ImportanceSampling.ImportanceSampler,1}\u001b[1m)\u001b[22m\u001b[22m at \u001b[1m.\\abstractarray.jl:1865\u001b[22m\u001b[22m",
      " [5] \u001b[1minclude_string\u001b[22m\u001b[22m\u001b[1m(\u001b[22m\u001b[22m::String, ::String\u001b[1m)\u001b[22m\u001b[22m at \u001b[1m.\\loading.jl:515\u001b[22m\u001b[22m"
     ]
    }
   ],
   "source": [
    "map(is -> update!(is; niters=100_000, batchsize=1000), iss);"
   ]
  }
 ],
 "metadata": {
  "kernelspec": {
   "display_name": "Julia 0.6.0",
   "language": "julia",
   "name": "julia-0.6"
  },
  "language_info": {
   "file_extension": ".jl",
   "mimetype": "application/julia",
   "name": "julia",
   "version": "0.6.0"
  }
 },
 "nbformat": 4,
 "nbformat_minor": 2
}
