{
 "cells": [
  {
   "cell_type": "code",
   "execution_count": 1,
   "metadata": {},
   "outputs": [],
   "source": [
    "include(\"src\\\\ImportanceSampling.jl\")\n",
    "using ImportanceSampling\n",
    "using Distributions\n",
    "using Seaborn"
   ]
  },
  {
   "cell_type": "code",
   "execution_count": 169,
   "metadata": {},
   "outputs": [],
   "source": [
    "mv = MeanVariance(1)\n",
    "w = Diagnostic()\n",
    ";"
   ]
  },
  {
   "cell_type": "code",
   "execution_count": 172,
   "metadata": {},
   "outputs": [],
   "source": [
    "N = 10_0000\n",
    "xs = rand(2, N);\n",
    "ws = randn(1, N)./randn(1, N)\n",
    ";"
   ]
  },
  {
   "cell_type": "code",
   "execution_count": 2,
   "metadata": {},
   "outputs": [],
   "source": [
    "p = Weibull(2, 4)\n",
    "q = Exponential(2)\n",
    "f!(r, x) = r[1:2] = Float64[x[1], x[1]^2]\n",
    "\n",
    "is = ImportanceSampler(f!, 2, q, p=p)\n",
    "\n",
    "N = 5000\n",
    "X = rand(q, N)\n",
    ";"
   ]
  },
  {
   "cell_type": "code",
   "execution_count": 4,
   "metadata": {},
   "outputs": [
    {
     "data": {
      "text/plain": [
       "false"
      ]
     },
     "execution_count": 4,
     "metadata": {},
     "output_type": "execute_result"
    }
   ],
   "source": [
    "t = zeros(2)\n",
    "m = sum(f!(t, X[i]).*pdf(p, X[i])/pdf.(q, X[i]) for i in 1:N) ./ N\n",
    "isapprox(mean(is), m)"
   ]
  },
  {
   "cell_type": "code",
   "execution_count": 5,
   "metadata": {},
   "outputs": [
    {
     "data": {
      "text/plain": [
       "2-element Array{Float64,1}:\n",
       " NaN\n",
       " NaN"
      ]
     },
     "execution_count": 5,
     "metadata": {},
     "output_type": "execute_result"
    }
   ],
   "source": [
    "mean(is) - [mean(p), var(p) + mean(p)^2]"
   ]
  },
  {
   "cell_type": "markdown",
   "metadata": {},
   "source": [
    "# MV"
   ]
  },
  {
   "cell_type": "code",
   "execution_count": null,
   "metadata": {},
   "outputs": [],
   "source": [
    "p = MvNormal(2.0*ones(2), eye(2))\n",
    "q = MvTDist(1, zeros(2), eye(2)*5)\n",
    "f!(r, x) = r[:] = vcat(x, x.^2)\n",
    "\n",
    "is = ImportanceSampler(f!, 4, q, p=p)\n",
    "\n",
    "N = 5000\n",
    "X = rand(q, N)\n",
    ";"
   ]
  },
  {
   "cell_type": "code",
   "execution_count": 48,
   "metadata": {},
   "outputs": [
    {
     "data": {
      "text/plain": [
       "ImportanceSampling.Diagnostic(5000, 5100.831515511719, 39068.02775873413, 405048.3541831882, 4.76868615717365e6)"
      ]
     },
     "execution_count": 48,
     "metadata": {},
     "output_type": "execute_result"
    }
   ],
   "source": [
    "update!(is, X=X)"
   ]
  },
  {
   "cell_type": "code",
   "execution_count": 58,
   "metadata": {},
   "outputs": [
    {
     "data": {
      "text/plain": [
       "4-element Array{Float64,1}:\n",
       " 2.07596\n",
       " 2.03016\n",
       " 5.25755\n",
       " 5.05987"
      ]
     },
     "execution_count": 58,
     "metadata": {},
     "output_type": "execute_result"
    }
   ],
   "source": [
    "t = zeros(4)\n",
    "m = sum(f!(t, X[:, i]).*pdf(p, X[:, i])/pdf(q, X[:, i]) for i in 1:N) ./ N\n",
    "isapprox(mean(is), m)"
   ]
  },
  {
   "cell_type": "code",
   "execution_count": 65,
   "metadata": {},
   "outputs": [
    {
     "data": {
      "text/plain": [
       "4-element Array{Float64,1}:\n",
       " 2.07596\n",
       " 2.03016\n",
       " 5.25755\n",
       " 5.05987"
      ]
     },
     "execution_count": 65,
     "metadata": {},
     "output_type": "execute_result"
    }
   ],
   "source": [
    "mean(is)"
   ]
  },
  {
   "cell_type": "code",
   "execution_count": 62,
   "metadata": {},
   "outputs": [
    {
     "data": {
      "text/plain": [
       "4-element Array{Float64,1}:\n",
       " 0.0759634\n",
       " 0.0301567\n",
       " 0.257546 \n",
       " 0.0598705"
      ]
     },
     "execution_count": 62,
     "metadata": {},
     "output_type": "execute_result"
    }
   ],
   "source": [
    "mean(is) - vcat(mean(p), var(p) + mean(p).^2)"
   ]
  }
 ],
 "metadata": {
  "kernelspec": {
   "display_name": "Julia 0.6.0",
   "language": "julia",
   "name": "julia-0.6"
  },
  "language_info": {
   "file_extension": ".jl",
   "mimetype": "application/julia",
   "name": "julia",
   "version": "0.6.0"
  }
 },
 "nbformat": 4,
 "nbformat_minor": 2
}
