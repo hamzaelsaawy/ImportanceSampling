{
 "cells": [
  {
   "cell_type": "code",
   "execution_count": 1,
   "metadata": {},
   "outputs": [
    {
     "name": "stderr",
     "output_type": "stream",
     "text": [
      "WARNING: Method definition midpoints(Base.Range{T} where T) in module Base"
     ]
    }
   ],
   "source": [
    "include(\"src\\\\ImportanceSamplers.jl\")\n",
    "using ImportanceSamplers"
   ]
  },
  {
   "cell_type": "code",
   "execution_count": 2,
   "metadata": {},
   "outputs": [
    {
     "name": "stderr",
     "output_type": "stream",
     "text": [
      " at deprecated.jl:56 overwritten in module StatsBase at C:\\Users\\Hamza El-Saawy\\.julia\\v0.6\\StatsBase\\src\\hist.jl:535.\n",
      "WARNING: Method definition midpoints(AbstractArray{T, 1} where T) in module Base at deprecated.jl:56 overwritten"
     ]
    }
   ],
   "source": [
    "N = 1000\n",
    "fs = rand(2, N)\n",
    "gs = rand(4, N)\n",
    ";"
   ]
  },
  {
   "cell_type": "code",
   "execution_count": 3,
   "metadata": {},
   "outputs": [
    {
     "name": "stderr",
     "output_type": "stream",
     "text": [
      " in module StatsBase at C:\\Users\\Hamza El-Saawy\\.julia\\v0.6\\StatsBase\\src\\hist.jl:533.\n"
     ]
    },
    {
     "data": {
      "text/plain": [
       "4×4 Array{Float64,2}:\n",
       "  0.0859072     0.00012723  -0.00211063   0.000617042\n",
       "  0.00012723    0.0824388   -0.00329198  -0.0035371  \n",
       " -0.00211063   -0.00329198   0.0861295   -0.00226639 \n",
       "  0.000617042  -0.0035371   -0.00226639   0.0807842  "
      ]
     },
     "execution_count": 3,
     "metadata": {},
     "output_type": "execute_result"
    }
   ],
   "source": [
    "S = cov(gs, 2)"
   ]
  },
  {
   "cell_type": "code",
   "execution_count": 4,
   "metadata": {},
   "outputs": [
    {
     "data": {
      "text/plain": [
       "4×2 Array{Float64,2}:\n",
       "  0.00179697   0.00254873 \n",
       " -0.00126596  -0.000449427\n",
       " -0.00528632  -0.00385238 \n",
       " -0.00268905   0.00157264 "
      ]
     },
     "execution_count": 4,
     "metadata": {},
     "output_type": "execute_result"
    }
   ],
   "source": [
    "C = cov(gs, fs, 2)"
   ]
  },
  {
   "cell_type": "code",
   "execution_count": 5,
   "metadata": {},
   "outputs": [
    {
     "data": {
      "text/plain": [
       "4×2 Array{Float64,2}:\n",
       "  0.0196676   0.0284743 \n",
       " -0.0194324  -0.00648407\n",
       " -0.0625857  -0.0438111 \n",
       " -0.0360438   0.0177366 "
      ]
     },
     "execution_count": 5,
     "metadata": {},
     "output_type": "execute_result"
    }
   ],
   "source": [
    "β = S\\C"
   ]
  },
  {
   "cell_type": "code",
   "execution_count": 6,
   "metadata": {},
   "outputs": [
    {
     "data": {
      "text/plain": [
       "4×2 Array{Float64,2}:\n",
       "  0.0          -3.46945e-18\n",
       " -3.46945e-18   8.67362e-19\n",
       " -2.77556e-17   6.93889e-18\n",
       " -6.93889e-18   0.0        "
      ]
     },
     "execution_count": 6,
     "metadata": {},
     "output_type": "execute_result"
    }
   ],
   "source": [
    "cv = ControlVariate(2, 4)\n",
    "update!(cv, fs, gs)\n",
    "cv.β - β"
   ]
  }
 ],
 "metadata": {
  "kernelspec": {
   "display_name": "Julia 0.6.0",
   "language": "julia",
   "name": "julia-0.6"
  },
  "language_info": {
   "file_extension": ".jl",
   "mimetype": "application/julia",
   "name": "julia",
   "version": "0.6.0"
  }
 },
 "nbformat": 4,
 "nbformat_minor": 2
}
