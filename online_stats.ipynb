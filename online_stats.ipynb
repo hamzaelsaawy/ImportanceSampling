{
 "cells": [
  {
   "cell_type": "code",
   "execution_count": 1,
   "metadata": {},
   "outputs": [
    {
     "name": "stderr",
     "output_type": "stream",
     "text": [
      "WARNING: Method definition midpoints(Base.Range{T}"
     ]
    }
   ],
   "source": [
    "include(\"src\\\\ImportanceSamplers.jl\")\n",
    "using ImportanceSamplers"
   ]
  },
  {
   "cell_type": "markdown",
   "metadata": {},
   "source": [
    "## μ & Σ"
   ]
  },
  {
   "cell_type": "code",
   "execution_count": 2,
   "metadata": {},
   "outputs": [
    {
     "name": "stderr",
     "output_type": "stream",
     "text": [
      " where T) in module Base at deprecated.jl:56 overwritten in module StatsBase at C:\\Users\\Hamza El-Saawy\\.julia\\v0.6\\StatsBase\\src\\hist.jl:535.\n",
      "WARNING: Method definition midpoints(AbstractArray{T, 1} where T)"
     ]
    }
   ],
   "source": [
    "# scalar"
   ]
  },
  {
   "cell_type": "code",
   "execution_count": 16,
   "metadata": {},
   "outputs": [],
   "source": [
    "x = rand(1000)\n",
    "mv = MeanVariance(1)\n",
    "for i in 1:5:500\n",
    "    update!(mv, x[i:(i+4)])\n",
    "end\n",
    "update!(mv, x[501:750])\n",
    "for i in 751:1000\n",
    "     update!(mv, x[i])\n",
    "end"
   ]
  },
  {
   "cell_type": "code",
   "execution_count": 17,
   "metadata": {},
   "outputs": [
    {
     "data": {
      "text/plain": [
       "(-6.661338147750939e-16, 1.3877787807814457e-17, 0.0)"
      ]
     },
     "execution_count": 17,
     "metadata": {},
     "output_type": "execute_result"
    }
   ],
   "source": [
    "(mean(mv) - mean(x),\n",
    "var(mv) - var(x),\n",
    "std(mv) - std(x))"
   ]
  },
  {
   "cell_type": "code",
   "execution_count": 5,
   "metadata": {
    "collapsed": true
   },
   "outputs": [],
   "source": [
    "# multi"
   ]
  },
  {
   "cell_type": "code",
   "execution_count": 6,
   "metadata": {},
   "outputs": [],
   "source": [
    "d = 5\n",
    "x = rand(d, 1000)\n",
    "mv = MeanVariance(d)\n",
    "for i in 1:5:500\n",
    "    update!(mv, x[:, i:(i+4)])\n",
    "end\n",
    "update!(mv, x[:, 501:750])\n",
    "for i in 751:1000\n",
    "     update!(mv, x[:, i])\n",
    "end"
   ]
  },
  {
   "cell_type": "code",
   "execution_count": 7,
   "metadata": {},
   "outputs": [
    {
     "data": {
      "text/plain": [
       "5×1 Array{Float64,2}:\n",
       "  2.22045e-16\n",
       " -1.11022e-16\n",
       "  1.05471e-15\n",
       " -2.22045e-16\n",
       " -5.55112e-17"
      ]
     },
     "execution_count": 7,
     "metadata": {},
     "output_type": "execute_result"
    }
   ],
   "source": [
    "mean(mv) - mean(x, 2)"
   ]
  },
  {
   "cell_type": "code",
   "execution_count": 8,
   "metadata": {},
   "outputs": [
    {
     "data": {
      "text/plain": [
       "5×1 Array{Float64,2}:\n",
       " 9.71445e-17\n",
       " 1.52656e-16\n",
       " 0.0        \n",
       " 5.55112e-17\n",
       " 6.93889e-17"
      ]
     },
     "execution_count": 8,
     "metadata": {},
     "output_type": "execute_result"
    }
   ],
   "source": [
    "var(mv) - var(x, 2)"
   ]
  },
  {
   "cell_type": "code",
   "execution_count": 9,
   "metadata": {},
   "outputs": [
    {
     "data": {
      "text/plain": [
       "5×5 Array{Float64,2}:\n",
       "  5.55112e-17  -4.44523e-18  -1.0842e-18   -3.03577e-18  -3.46945e-18\n",
       " -4.44523e-18   6.93889e-17   1.30104e-18   1.13841e-18   2.1684e-18 \n",
       " -1.0842e-18    1.30104e-18   5.55112e-17   3.03577e-18   2.60209e-18\n",
       " -3.03577e-18   1.13841e-18   3.03577e-18  -4.16334e-17  -1.51788e-18\n",
       " -3.46945e-18   2.1684e-18    2.60209e-18  -1.51788e-18   9.71445e-17"
      ]
     },
     "execution_count": 9,
     "metadata": {},
     "output_type": "execute_result"
    }
   ],
   "source": [
    "cov(mv) - cov(x')"
   ]
  },
  {
   "cell_type": "markdown",
   "metadata": {},
   "source": [
    "## diagnostics"
   ]
  },
  {
   "cell_type": "code",
   "execution_count": 34,
   "metadata": {},
   "outputs": [
    {
     "data": {
      "text/plain": [
       "NaN"
      ]
     },
     "execution_count": 34,
     "metadata": {},
     "output_type": "execute_result"
    }
   ],
   "source": [
    "mean(Matrix{Float64}(4, 0))"
   ]
  },
  {
   "cell_type": "code",
   "execution_count": 28,
   "metadata": {},
   "outputs": [
    {
     "data": {
      "text/plain": [
       "(-7.105427357601002e-15, 1.3322676295501878e-15, 1.3322676295501878e-15)"
      ]
     },
     "execution_count": 28,
     "metadata": {},
     "output_type": "execute_result"
    }
   ],
   "source": [
    "N = 1000\n",
    "ws = abs.(randn(N) ./ randn(N))\n",
    "d = Diagnostic()\n",
    "for i in 1:5:500\n",
    "    update!(d, ws[i:(i+4)])\n",
    "end\n",
    "update!(d, ws[501:750])\n",
    "for i in 751:1000\n",
    "     update!(d, ws[i])\n",
    "end\n",
    "(ne(d)-sum(ws)^2/(sum(abs2, ws)), \n",
    "    neσ(d)-sum(abs2, ws)^2/(sum(ws.^4)), \n",
    "    neγ(d)-sum(abs2, ws)^3/(sum(ws.^3)^2))"
   ]
  }
 ],
 "metadata": {
  "kernelspec": {
   "display_name": "Julia 0.6.0",
   "language": "julia",
   "name": "julia-0.6"
  },
  "language_info": {
   "file_extension": ".jl",
   "mimetype": "application/julia",
   "name": "julia",
   "version": "0.6.0"
  }
 },
 "nbformat": 4,
 "nbformat_minor": 2
}
