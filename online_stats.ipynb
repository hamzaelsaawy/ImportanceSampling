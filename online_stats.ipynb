{
 "cells": [
  {
   "cell_type": "code",
   "execution_count": 1,
   "metadata": {},
   "outputs": [
    {
     "name": "stderr",
     "output_type": "stream",
     "text": [
      "WARNING: Method definition midpoints(Base.Range{T} where T)"
     ]
    }
   ],
   "source": [
    "include(\"src\\\\ImportanceSamplers.jl\")\n",
    "using ImportanceSamplers"
   ]
  },
  {
   "cell_type": "markdown",
   "metadata": {},
   "source": [
    "## μ & Σ"
   ]
  },
  {
   "cell_type": "code",
   "execution_count": 2,
   "metadata": {},
   "outputs": [
    {
     "name": "stderr",
     "output_type": "stream",
     "text": [
      " in module Base at deprecated.jl:56 overwritten in module StatsBase at C:\\Users\\Hamza El-Saawy\\.julia\\v0.6\\StatsBase\\src\\hist.jl:535.\n",
      "WARNING: Method definition midpoints(AbstractArray{T, 1} where T) in module Base at deprecated.jl:56 overwritten in module StatsBase at C:\\Users\\Hamza El-Saawy\\.julia\\v0.6\\StatsBase\\src\\hist.jl:533.\n"
     ]
    }
   ],
   "source": [
    "# scalar"
   ]
  },
  {
   "cell_type": "code",
   "execution_count": 3,
   "metadata": {},
   "outputs": [],
   "source": [
    "x = rand(1, 1000)\n",
    "mv = MeanVariance(1)\n",
    "for i in 1:5:500\n",
    "    update!(mv, x[:, i:(i+4)])\n",
    "end\n",
    "update!(mv, x[:,501:750])\n",
    "for i in 751:1000\n",
    "     update!(mv, x[:, i])\n",
    "end"
   ]
  },
  {
   "cell_type": "code",
   "execution_count": 4,
   "metadata": {},
   "outputs": [
    {
     "data": {
      "text/plain": [
       "(1.1102230246251565e-16, -1.249000902703301e-16, -2.220446049250313e-16)"
      ]
     },
     "execution_count": 4,
     "metadata": {},
     "output_type": "execute_result"
    }
   ],
   "source": [
    "(mean(mv) - mean(x),\n",
    "var(mv) - var(x),\n",
    "std(mv) - std(x))"
   ]
  },
  {
   "cell_type": "code",
   "execution_count": 5,
   "metadata": {},
   "outputs": [],
   "source": [
    "# multi"
   ]
  },
  {
   "cell_type": "code",
   "execution_count": 6,
   "metadata": {},
   "outputs": [],
   "source": [
    "d = 5\n",
    "x = rand(d, 1000)\n",
    "mv = MeanVariance(d)\n",
    "for i in 1:5:500\n",
    "    update!(mv, x[:, i:(i+4)])\n",
    "end\n",
    "update!(mv, x[:, 501:750])\n",
    "for i in 751:1000\n",
    "     update!(mv, x[:, i])\n",
    "end"
   ]
  },
  {
   "cell_type": "code",
   "execution_count": 7,
   "metadata": {},
   "outputs": [
    {
     "data": {
      "text/plain": [
       "5×1 Array{Float64,2}:\n",
       "  5.55112e-16\n",
       " -1.11022e-16\n",
       " -3.33067e-16\n",
       " -1.11022e-16\n",
       " -3.33067e-16"
      ]
     },
     "execution_count": 7,
     "metadata": {},
     "output_type": "execute_result"
    }
   ],
   "source": [
    "mean(mv) - mean(x, 2)"
   ]
  },
  {
   "cell_type": "code",
   "execution_count": 8,
   "metadata": {},
   "outputs": [
    {
     "data": {
      "text/plain": [
       "5×1 Array{Float64,2}:\n",
       "  6.93889e-17\n",
       " -1.249e-16  \n",
       " -5.55112e-17\n",
       " -6.93889e-17\n",
       "  5.55112e-17"
      ]
     },
     "execution_count": 8,
     "metadata": {},
     "output_type": "execute_result"
    }
   ],
   "source": [
    "var(mv) - var(x, 2)"
   ]
  },
  {
   "cell_type": "code",
   "execution_count": 9,
   "metadata": {},
   "outputs": [
    {
     "data": {
      "text/plain": [
       "5×5 Array{Float64,2}:\n",
       "  0.0           4.33681e-18   1.51788e-18  -1.73472e-18   1.30104e-18\n",
       "  4.33681e-18  -6.93889e-17  -2.1684e-18    3.25261e-19  -8.67362e-18\n",
       "  1.51788e-18  -2.1684e-18   -6.93889e-17   3.25261e-18  -8.67362e-19\n",
       " -1.73472e-18   3.25261e-19   3.25261e-18  -8.32667e-17  -3.90313e-18\n",
       "  1.30104e-18  -8.67362e-18  -8.67362e-19  -3.90313e-18   4.16334e-17"
      ]
     },
     "execution_count": 9,
     "metadata": {},
     "output_type": "execute_result"
    }
   ],
   "source": [
    "cov(mv) - cov(x')"
   ]
  },
  {
   "cell_type": "markdown",
   "metadata": {},
   "source": [
    "## diagnostics"
   ]
  },
  {
   "cell_type": "code",
   "execution_count": 10,
   "metadata": {},
   "outputs": [
    {
     "data": {
      "text/plain": [
       "(2.6645352591003757e-15, 2.886579864025407e-15, 3.9968028886505635e-15)"
      ]
     },
     "execution_count": 10,
     "metadata": {},
     "output_type": "execute_result"
    }
   ],
   "source": [
    "N = 1000\n",
    "ws = abs.(randn(N) ./ randn(N))\n",
    "d = Diagnostic()\n",
    "for i in 1:5:500\n",
    "    update!(d, ws[i:(i+4)])\n",
    "end\n",
    "update!(d, ws[501:750])\n",
    "for i in 751:1000\n",
    "     update!(d, ws[i])\n",
    "end\n",
    "(ne(d)-sum(ws)^2/(sum(abs2, ws)), \n",
    "    neσ(d)-sum(abs2, ws)^2/(sum(ws.^4)), \n",
    "    neγ(d)-sum(abs2, ws)^3/(sum(ws.^3)^2))"
   ]
  }
 ],
 "metadata": {
  "kernelspec": {
   "display_name": "Julia 0.6.0",
   "language": "julia",
   "name": "julia-0.6"
  },
  "language_info": {
   "file_extension": ".jl",
   "mimetype": "application/julia",
   "name": "julia",
   "version": "0.6.0"
  }
 },
 "nbformat": 4,
 "nbformat_minor": 2
}
